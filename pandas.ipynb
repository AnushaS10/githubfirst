{
  "nbformat": 4,
  "nbformat_minor": 0,
  "metadata": {
    "colab": {
      "provenance": [],
      "authorship_tag": "ABX9TyNICq/LZfWaUl9SAxHAd1gn",
      "include_colab_link": true
    },
    "kernelspec": {
      "name": "python3",
      "display_name": "Python 3"
    },
    "language_info": {
      "name": "python"
    }
  },
  "cells": [
    {
      "cell_type": "markdown",
      "metadata": {
        "id": "view-in-github",
        "colab_type": "text"
      },
      "source": [
        "<a href=\"https://colab.research.google.com/github/AnushaS10/githubfirst/blob/main/pandas.ipynb\" target=\"_parent\"><img src=\"https://colab.research.google.com/assets/colab-badge.svg\" alt=\"Open In Colab\"/></a>"
      ]
    },
    {
      "cell_type": "code",
      "execution_count": null,
      "metadata": {
        "id": "kJ5uG8N3HZ0w"
      },
      "outputs": [],
      "source": [
        "# prompt: 6 random numbers using numpy\n",
        "\n",
        "import numpy as np\n",
        "\n",
        "print(np.random.rand(6))\n"
      ]
    },
    {
      "cell_type": "code",
      "source": [
        "import pandas as pd\n",
        "\n",
        "a = [\"car\",\"bus\",\"train\"]\n",
        "\n",
        "var = pd.Series(a)\n",
        "\n",
        "print(var)"
      ],
      "metadata": {
        "colab": {
          "base_uri": "https://localhost:8080/"
        },
        "id": "b_U5SheIHtnP",
        "outputId": "5763903d-9590-4844-e617-4e1b4059334e"
      },
      "execution_count": 6,
      "outputs": [
        {
          "output_type": "stream",
          "name": "stdout",
          "text": [
            "0      car\n",
            "1      bus\n",
            "2    train\n",
            "dtype: object\n"
          ]
        }
      ]
    }
  ]
}