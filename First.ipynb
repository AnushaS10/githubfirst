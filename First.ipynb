{
  "cells": [
    {
      "cell_type": "markdown",
      "metadata": {
        "colab_type": "text",
        "id": "view-in-github"
      },
      "source": [
        "<a href=\"https://colab.research.google.com/github/AnushaS10/githubfirst/blob/main/First.ipynb\" target=\"_parent\"><img src=\"https://colab.research.google.com/assets/colab-badge.svg\" alt=\"Open In Colab\"/></a>"
      ]
    },
    {
      "cell_type": "code",
      "execution_count": null,
      "metadata": {
        "id": "rysFuA3y7VrL"
      },
      "outputs": [],
      "source": []
    },
    {
      "cell_type": "markdown",
      "metadata": {
        "id": "Cfnp7NUzBK20"
      },
      "source": [
        "#Heading one"
      ]
    },
    {
      "cell_type": "code",
      "execution_count": null,
      "metadata": {
        "colab": {
          "base_uri": "https://localhost:8080/"
        },
        "id": "0dB1RKC2BhFn",
        "outputId": "93276ea6-1d79-442f-ed7b-bf14330974eb"
      },
      "outputs": [],
      "source": [
        " # Mount Google Drive\n",
        "\n",
        "#  from google.colab import drive\n",
        "#  drive.mount('/content/drive')\n",
        "\n",
        "\n",
        "a='Hello'\n",
        "b='World'\n",
        "print(a+ b)\n"
      ]
    }
  ],
  "metadata": {
    "colab": {
      "authorship_tag": "ABX9TyN0rvZCTGnoLLxcGSloNIQk",
      "include_colab_link": true,
      "provenance": []
    },
    "kernelspec": {
      "display_name": "Python 3",
      "name": "python3"
    },
    "language_info": {
      "name": "python"
    }
  },
  "nbformat": 4,
  "nbformat_minor": 0
}
